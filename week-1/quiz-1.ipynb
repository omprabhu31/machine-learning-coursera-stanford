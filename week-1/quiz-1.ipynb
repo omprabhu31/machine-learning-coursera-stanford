{
 "cells": [
  {
   "cell_type": "markdown",
   "metadata": {},
   "source": [
    "# Week 1 Quiz 1: Introduction"
   ]
  },
  {
   "cell_type": "markdown",
   "metadata": {},
   "source": [
    "Question 1\n",
    "----------\n",
    "\n",
    "A computer program is said to learn from experience E with respect to some task T and some performance measure P if its performance on T, as measured by P, improves with experience E. Suppose we feed a learning algorithm a lot of historical weather data, and have it learn to predict weather. In this setting, what is T?\n",
    "\n",
    "* The probability of it correctly predicting a future date's weather\n",
    "* None of these\n",
    "* The weather prediction task\n",
    "* The process of the algorithm examining a large amount of historical weather data\n",
    "\n",
    "#### Answer\n",
    "\n",
    "E = The process of the algorithm examining a large amount of historical weather data\n",
    "\n",
    "T = The weather prediction task\n",
    "\n",
    "P = The probability of it correctly predicting a future date's weather"
   ]
  },
  {
   "cell_type": "markdown",
   "metadata": {},
   "source": [
    "Question 2\n",
    "----------\n",
    "\n",
    "Suppose you are working on weather prediction, and your weather station makes one of three predictions for each day's weather: Sunny, Cloudy or Rainy. You'd like to use a learning algorithm to predict tomorrow's weather. Would you treat this as a classification or a regression problem?\n",
    "\n",
    "* Regression\n",
    "* Classification\n",
    "\n",
    "#### Answer\n",
    "\n",
    "Classification is appropriate when dealing with discrete outputs. Here, the outputs are either Sunny, Cloudy or Rainy (which we may designate with 0, 1 and 2)."
   ]
  },
  {
   "cell_type": "markdown",
   "metadata": {},
   "source": [
    "Question 3\n",
    "----------\n",
    "\n",
    "Suppose you are working on stock market prediction. You would like to predict whether or not a certain company will win a patent infringement lawsuit (by training on data of companies that had to defend against similar lawsuits). Would you treat this as a classification or a regression problem?\n",
    "\n",
    "* Regression\n",
    "* Classification\n",
    "\n",
    "#### Answer\n",
    "\n",
    "This is a supervised learning problem which can be solved by classification (denote 0 for losing the lawsuit and 1 for winning the lawsuit, for example)."
   ]
  },
  {
   "cell_type": "markdown",
   "metadata": {},
   "source": [
    "Question 4\n",
    "----------\n",
    "\n",
    "Some of the problems below are best addressed using a supervised learning algorithm, and the others with an unsupervised learning algorithm.  Which of the following would you apply supervised learning to? (Select all that apply.) In each case, assume some appropriate dataset is available for your algorithm to learn from.\n",
    "\n",
    "* Examine a web page, and classify whether the content on the web page should be considered \"child friendly\" (e.g., non-pornographic, etc.) or \"adult\"\n",
    "* Given data on how 1000 medical patients respond to an experimental drug (such as effectiveness of the treatment, side effects, etc.), discover whether there are different categories or \"types\" of patients in terms of how they respond to the drug, and if so what these categories are\n",
    "* In farming, given data on crop yields over the last 50 years, learn to predict next year's crop yields\n",
    "* Given a large dataset of medical records from patients suffering from heart disease, try to learn whether there might be different clusters of such patients for which we might tailor separate treatments\n",
    "\n",
    "#### Answer\n",
    "\n",
    "Option 1 - Supervised learning, since we learn from a large dataset of webpages that are labelled as either \"child friendly\" or \"adult\"\n",
    "\n",
    "Option 2 - Unsupervised learning, since we group patients into clusters based on drug response\n",
    "\n",
    "Option 3 - Supervised learning, since we learn from labeled data regarding previous crop yields to make an informed prediction for next year\n",
    "\n",
    "Option 4 - Unsupervised learning, since we group patients into clusters for further treatment"
   ]
  },
  {
   "cell_type": "markdown",
   "metadata": {},
   "source": [
    "Question 5\n",
    "----------\n",
    "\n",
    "Which of these is a reasonable definition of machine learning?\n",
    "\n",
    "* Machine learning is the field of allowing robots to act intelligently\n",
    "* Machine learning is the field of study that gives computers the ability to learn without being explicitly programmed\n",
    "* Machine learning learns from labeled data\n",
    "* Machine learning is the science of programming computers\n",
    "\n",
    "#### Answer\n",
    "\n",
    "Machine learning is the field of study that gives computers the ability to learn without being explicitly programmed."
   ]
  }
 ],
 "metadata": {
  "language_info": {
   "name": "python"
  },
  "orig_nbformat": 4
 },
 "nbformat": 4,
 "nbformat_minor": 2
}
