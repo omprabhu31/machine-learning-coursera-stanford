{
 "cells": [
  {
   "cell_type": "markdown",
   "metadata": {},
   "source": [
    "# Week 2 Quiz 1: Linear Regression with Multiple Variables"
   ]
  },
  {
   "cell_type": "markdown",
   "metadata": {},
   "source": [
    "## Question 1\n",
    "\n",
    "Suppose $m=4$ students have taken some class, and the class had a midterm exam and a final exam. You have collected a dataset of their scores on the two exams, which is as follows:\n",
    "\n",
    "| midterm exam | (midterm exam)$^2$ | final exam |\n",
    "| ------------ | ------------------ | ---------- |\n",
    "| 89 | 7921 | 96 |\n",
    "| 72 | 5184 | 74 |\n",
    "| 94 | 8836 | 87 |\n",
    "| 69 | 4761 | 78 |\n",
    "\n",
    "You'd like to use polynomial regression to predict a student's final exam score from their midterm exam score. Concretely, suppose you want to fit a model of the form $h_\\theta(x) = \\theta_0 + \\theta_1 x_1 + \\theta_2 x_2$ where $x_1$ is the midterm score and $x_2$ is (midterm score)$^2$. Further, you plan to use both feature scaling (dividing by the \"max-min\", or range, of a feature) and mean normalization.\n",
    "\n",
    "What is the normalized feature $x_2^{(2)}$x? (Hint: midterm = 72, final = 74 is training example 2.) Please round off your answer to two decimal places and enter in the text box below.\n",
    "\n",
    "#### Answer\n",
    "\n",
    "A general formula for the normalized feature $x_j^{(i)}$ is given by $\\frac{x_j^{(i)}-\\mu_j}{\\max(x_j)-\\min(x_j)}$. \n",
    "\n",
    "In case of $x_2^{(2)}$, i.e. $i = 2$ and $j = 2$, we have $\\mu_2 = \\frac{7921+5184+8836+4761}{4}=6675.5$ and $\\text{range}=8836-4761 = 4075$. Thus the value of the normalized feature is $\\frac{5184-6675.5}{4075}=-0.37$."
   ]
  },
  {
   "cell_type": "markdown",
   "metadata": {},
   "source": [
    "## Question 2\n",
    "\n",
    "You run gradient descent for 15 iterations with $\\alpha = 0.3$ and compute $J(\\theta)$ after each iteration. You find that the value of $J(\\theta)$ decreases quickly then levels off. Based on this, which of the following conclusions seems most plausible?\n",
    "\n",
    "* Rather than use the current value of $\\alpha$, it'd be more promising to try a larger value of $\\alpha$ (say $\\alpha = 1.0$)\n",
    "* Rather than use the current value of $\\alpha$, it'd be more promising to try a smaller value of $\\alpha$ (say $\\alpha = 0.1$)\n",
    "* $\\alpha = 0.3$ is an effective choice of learning rate\n",
    "\n",
    "#### Answer\n",
    "\n",
    "The current value of $\\alpha$ seems to fit our criteria for a quick implementation of gradient descent as well as convergence."
   ]
  },
  {
   "cell_type": "markdown",
   "metadata": {},
   "source": [
    "## Question 3\n",
    "\n",
    "Suppose you have $m = 14$ training examples with $n = 3$ features (excluding the additional all-ones feature for the intercept term, which you should add). The normal equation is $\\theta = (X^TX)^{-1}X^Ty$. For the given values of $m$ and $n$, what are the dimensions of $\\theta$, $X$, and $y$ in this equation?\n",
    "\n",
    "* $X$ is $14\\times 4$, $y$ is $14\\times 4$, $\\theta$ is $4\\times 4$\n",
    "* $X$ is $14\\times 4$, $y$ is $14\\times 1$, $\\theta$ is $4\\times 1$\n",
    "* $X$ is $14\\times 3$, $y$ is $14\\times 1$, $\\theta$ is $3\\times 1$\n",
    "* $X$ is $14\\times 3$, $y$ is $14\\times 1$, $\\theta$ is $3\\times 3$\n",
    "\n",
    "#### Answer\n",
    "\n",
    "$X$ has $m$ rows and $(n+1)$ columns. $y$ is an $m$-dimensional vector. $\\theta = (X^TX)^{-1}X^Ty\\implies (n+1)$-dimensional vector."
   ]
  },
  {
   "cell_type": "markdown",
   "metadata": {},
   "source": [
    "## Question 4\n",
    "\n",
    "Suppose you have a dataset with $m = 1000000$ examples and $n = 200000$ features for each example. You want to use multivariate linear regression to fit the parameters $\\theta$ to our data. Should you prefer gradient descent or the normal equation?\n",
    "\n",
    "* Gradient descent, since it will always converge to the optimal $\\theta$ \n",
    "* The normal equation, since it provides an efficient way to directly find the solution\n",
    "* Gradient descent, since $(X^TX)^{-1}$ will be very slow to compute in the normal equation \n",
    "* The normal equation, since gradient descent might be unable to find the optimal $\\theta$\n",
    "\n",
    "#### Answer\n",
    "\n",
    "Since the given values of $m$ and $n$ are very large, the normal equation will be very slow (since finding the inverse of a $200001\\times 200001$ matrix is very computationally expensive). Hence, gradient descent is a good choice."
   ]
  },
  {
   "cell_type": "markdown",
   "metadata": {},
   "source": [
    "## Question 5\n",
    "\n",
    "Which of the following are reasons for using feature scaling?\n",
    "\n",
    "* It speeds up gradient descent by making it require fewer iterations to get to a good solution\n",
    "* It speeds up gradient descent by making each iteration of gradient descent less expensive to compute\n",
    "* It prevents the matrix $X^TX$ (used in the normal equation) from being non-invertable (singular/degenerate)\n",
    "* It is necessary to prevent the normal equation from getting stuck in local optima\n",
    "\n",
    "#### Answer\n",
    "\n",
    "Option 1 - True. Feature scaling normalizes the input features and speeds up gradient descent by cutting down on extra iterations that would be otherwise be required if the ranges of the input features were very different.\n",
    "\n",
    "Option 2 - False. Every iteration of gradient descent still incurs the same amount of computational expense, regardless of whether or not feature scaling is used.\n",
    "\n",
    "Option 3 - False. Feature scaling is not required when using the normal equation method.\n",
    "\n",
    "Option 4 - False. Feature scaling is not required when using the normal equation method. Additionally, there are no local optima for linear regression."
   ]
  },
  {
   "cell_type": "markdown",
   "metadata": {},
   "source": []
  }
 ],
 "metadata": {
  "language_info": {
   "name": "python"
  },
  "orig_nbformat": 4
 },
 "nbformat": 4,
 "nbformat_minor": 2
}
