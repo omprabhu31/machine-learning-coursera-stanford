{
 "cells": [
  {
   "cell_type": "markdown",
   "metadata": {},
   "source": [
    "# Week 1 Quiz 3: Linear Algebra"
   ]
  },
  {
   "cell_type": "markdown",
   "metadata": {},
   "source": [
    "Question 1\n",
    "----------\n",
    "\n",
    "Let two matrices be\n",
    "\n",
    "$A = \\begin{bmatrix}\n",
    "    4 & 3\\\\\n",
    "    6 & 9\n",
    "\\end{bmatrix}\\hspace{5mm}B = \\begin{bmatrix}\n",
    "    -2 & 9\\\\\n",
    "    -5 & 2\n",
    "\\end{bmatrix}$\n",
    "\n",
    "What is $A+B$?\n",
    "\n",
    "#### Answer\n",
    "\n",
    "$\\displaystyle A+B=\\begin{bmatrix}\n",
    "    4 & 3\\\\\n",
    "    6 & 9\n",
    "\\end{bmatrix}+\\begin{bmatrix}\n",
    "    -2 & 9\\\\\n",
    "    -5 & 2\n",
    "\\end{bmatrix}=\\begin{bmatrix}\n",
    "    4-2 & 3+9\\\\\n",
    "    6-5 & 9+2\n",
    "\\end{bmatrix}=\\begin{bmatrix}\n",
    "    2 & 12\\\\\n",
    "    1 & 11\n",
    "\\end{bmatrix}$"
   ]
  },
  {
   "cell_type": "markdown",
   "metadata": {},
   "source": [
    "Question 2\n",
    "----------\n",
    "\n",
    "Let $x=\\begin{bmatrix}\n",
    "    2\\\\ 7\\\\ 4\\\\ 1\n",
    "\\end{bmatrix}$\n",
    "\n",
    "What is $\\dfrac{1}{2}\\times x$?\n",
    "\n",
    "#### Answer\n",
    "\n",
    "$\\displaystyle \\dfrac{1}{2}\\times x=\\begin{bmatrix}\n",
    "    1\\\\ 3.5\\\\ 2\\\\ 0.5\n",
    "\\end{bmatrix}$"
   ]
  },
  {
   "cell_type": "markdown",
   "metadata": {},
   "source": [
    "Question 3\n",
    "----------\n",
    "\n",
    "Let $u$ be a 3-dimensional vector, where specifically $u=\\begin{bmatrix}\n",
    "    8\\\\ 1\\\\ 4\n",
    "\\end{bmatrix}$\n",
    "\n",
    "What is $u^T$?\n",
    "\n",
    "#### Answer\n",
    "\n",
    "$u^T = \\begin{bmatrix}\n",
    "    8& 1 & 4\n",
    "\\end{bmatrix}$"
   ]
  },
  {
   "cell_type": "markdown",
   "metadata": {},
   "source": [
    "Question 4\n",
    "----------\n",
    "\n",
    "Let $u$ and $v$ be 3-dimensional vectors, where specifically $u=\\begin{bmatrix}\n",
    "    4\\\\ -4\\\\ -3\n",
    "\\end{bmatrix}\\hspace{5mm}v=\\begin{bmatrix}\n",
    "    4\\\\ 2\\\\ 4\n",
    "\\end{bmatrix}$\n",
    "\n",
    "What is $u^Tv$?\n",
    "\n",
    "#### Answer\n",
    "\n",
    "$u^Tv = \\begin{bmatrix}\n",
    "    4 & -4 & -3\n",
    "\\end{bmatrix}\\begin{bmatrix}\n",
    "    4\\\\ 2\\\\ 4\n",
    "\\end{bmatrix}=\n",
    "(4\\times 4)+(-4\\times 2)+(-3\\times 4)=-4$"
   ]
  },
  {
   "cell_type": "markdown",
   "metadata": {},
   "source": [
    "Question 5\n",
    "----------\n",
    "\n",
    "Let $A$ and $B$ be $3\\times 3$ square matrices. Which of the following must necessarily hold true? Check all that apply.\n",
    "\n",
    "* If $C = A\\times B$, then $C$ is a $6\\times 6$ matrix\n",
    "* $A+B=B+A$\n",
    "* $A\\times B = B\\times A$\n",
    "* If $A$ is the $3\\times 3$ identity matrix, then $A\\times B = B\\times A$\n",
    "\n",
    "#### Answer\n",
    "\n",
    "Option 1 - False. Multiplication of two $3\\times 3$ matrices results in a $3\\times 3$ matrix\n",
    "\n",
    "Option 2 - True. Matrix addition is commutative\n",
    "\n",
    "Option 3 - False. Matrix multiplication is not commutative\n",
    "\n",
    "Option 4 - True. If $A=I_{3\\times 3}$, then $I\\times B = B\\times I$"
   ]
  }
 ],
 "metadata": {
  "language_info": {
   "name": "python"
  },
  "orig_nbformat": 4
 },
 "nbformat": 4,
 "nbformat_minor": 2
}
