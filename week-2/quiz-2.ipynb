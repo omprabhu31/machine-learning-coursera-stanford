{
 "cells": [
  {
   "cell_type": "markdown",
   "metadata": {},
   "source": [
    "# Week 2 Quiz 2 - Octave/Matlab Tutorial"
   ]
  },
  {
   "cell_type": "markdown",
   "metadata": {},
   "source": [
    "## Question 1\n",
    "\n",
    "Suppose I first execute the Octave/Matlab commands:\n",
    "\n",
    "```octave\n",
    "A = [1 2; 3 4; 5 6];\n",
    "B = [1 2 3; 4 5 6];\n",
    "```\n",
    "\n",
    "Which of the following are then valid commands? Check all that apply. (Hint: A' denotes the transpose of A)\n",
    "\n",
    "* C = A * B\n",
    "* C = B' + A\n",
    "* C = A' * B\n",
    "* C = B + A\n",
    "\n",
    "#### Answer\n",
    "\n",
    "$A$ is a matrix of dimension $3\\times 2$, while $B$ is a matrix of dimension $2\\times 3$. Thus, the first two operations are valid, while the remaining two are invalid."
   ]
  },
  {
   "cell_type": "markdown",
   "metadata": {},
   "source": [
    "## Question 2\n",
    "\n",
    "Let $A = \\begin{bmatrix} 16 & 2 & 3 & 13\\\\ 5 & 11 & 10 & 8\\\\ 9 & 7 & 6 & 12\\\\ 4 & 14 & 15 & 1 \\end{bmatrix}$\n",
    "\n",
    "Which of the following indexing expressions gives $B = \\begin{bmatrix} 16 & 2\\\\ 5 & 11\\\\ 9 & 7\\\\ 4 & 14 \\end{bmatrix}$? Check all that apply\n",
    "\n",
    "* `B = A(:, 1:2);`\n",
    "* `B = A(1:4, 1:2);`\n",
    "* `B = A(0:2, 0:4);`\n",
    "* `B = A(1:2, 1:4);`\n",
    "\n",
    "#### Answer\n",
    "\n",
    "Option 1 - True, results in $\\begin{bmatrix} 16 & 2\\\\ 5 & 11\\\\ 9 & 7\\\\ 4 & 14 \\end{bmatrix}$\n",
    "\n",
    "Option 2 - True, results in $\\begin{bmatrix} 16 & 2\\\\ 5 & 11\\\\ 9 & 7\\\\ 4 & 14 \\end{bmatrix}$\n",
    "\n",
    "Option 3 - False, invalid operation\n",
    "\n",
    "Option 4 - False, results in $\\begin{bmatrix} 16 & 2 & 3 & 13\\\\ 5 & 11 & 10 & 8 \\end{bmatrix}$"
   ]
  },
  {
   "cell_type": "markdown",
   "metadata": {},
   "source": [
    "## Question 3\n",
    "\n",
    "Let $A$ be a $10\\times 10$ matrix and $x$ be a 10-element vector. Your friend wants to compute the product $Ax$ and writes the following code:\n",
    "\n",
    "```octave\n",
    "v = zeros(10, 1);\n",
    "for i = 1:10\n",
    "  for j = 1:10\n",
    "    v(i) = v(i) + A(i, j) * x(j);\n",
    "  end\n",
    "end\n",
    "```\n",
    "\n",
    "How would you vectorize this code to run without any for loops? Check all that apply\n",
    "\n",
    "* v = A * x;\n",
    "* v = Ax;\n",
    "* v = x' * A;\n",
    "* v = sum(A * x);\n",
    "\n",
    "#### Answer\n",
    "\n",
    "Option 1 - True\n",
    "\n",
    "Option 2 - False, invalid operation\n",
    "\n",
    "Option 3 - False, is equivalent to $x^TA$\n",
    "\n",
    "Option 4 - False, returns a single number instead of $10\\times 1$ vector"
   ]
  },
  {
   "cell_type": "markdown",
   "metadata": {},
   "source": [
    "## Question 4\n",
    "\n",
    "Say you have two column vectors $v$ and $w$, each with 7 elements (i.e., they have dimensions $7x\\times 1$). Consider the following code:\n",
    "\n",
    "```octave\n",
    "z = 0;\n",
    "for i = 1:7\n",
    "  z = z + v(i) * w(i)\n",
    "end\n",
    "```\n",
    "\n",
    "Which of the following vectorizations correctly compute z? Check all that apply\n",
    "\n",
    "* z = sum(v .* w)\n",
    "* z = w' * v\n",
    "* z = v * w\n",
    "* z = w * v\n",
    "\n",
    "#### Answer\n",
    "\n",
    "$z$ is the sum of the element-wise multiplication of the vectors $v$ and $w$. The first two options give the desired result, while the remaining two operations are not even valid in the first place."
   ]
  },
  {
   "cell_type": "markdown",
   "metadata": {},
   "source": [
    "## Question 5\n",
    "\n",
    "In Octave/Matlab, many functions work on single numbers, vectors, and matrices. For example, the `sin` function when applied to a matrix will return a new matrix with the sine of each element. But you have to be careful, as certain functions have different behavior. Suppose you have an $7\\times 7$ matrix $X$. You want to compute the log of every element, the square of every element, add 1 to every element, and divide every element by 4. You will store the results in four matrices, $A, B, C, D$. One way to do so is the following code:\n",
    "\n",
    "```octave\n",
    "for i = 1:7\n",
    "  for j = 1:7\n",
    "    A(i, j) = log(X(i, j));\n",
    "    B(i, j) = X(i, j) ^ 2;\n",
    "    C(i, j) = X(i, j) + 1;\n",
    "    D(i, j) = X(i, j) / 4;\n",
    "  end\n",
    "end\n",
    "```\n",
    "\n",
    "Which of the following correctly compute $A, B, C,$ or $D$? Check all that apply\n",
    "\n",
    "* `C = X + 1;`\n",
    "* `D = X / 4;`\n",
    "* `B = X .^ 2;`\n",
    "* `B = X ^ 2;`\n",
    "\n",
    "#### Answer\n",
    "\n",
    "```octave\n",
    "A = log(X);\n",
    "B = X .^ 2;\n",
    "C = X + 1;\n",
    "D = X / 4;\n",
    "```"
   ]
  }
 ],
 "metadata": {
  "language_info": {
   "name": "python"
  },
  "orig_nbformat": 4
 },
 "nbformat": 4,
 "nbformat_minor": 2
}
