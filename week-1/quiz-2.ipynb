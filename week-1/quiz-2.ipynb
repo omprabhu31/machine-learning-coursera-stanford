{
 "cells": [
  {
   "cell_type": "markdown",
   "metadata": {},
   "source": [
    "# Week 1 Quiz 2: Linear Regression with One Variable"
   ]
  },
  {
   "cell_type": "markdown",
   "metadata": {},
   "source": [
    "Question 1\n",
    "----------\n",
    "\n",
    "Consider the problem of predicting how well a student does in her second year of college/university, given how well she did in her first year.\n",
    "\n",
    "Specifically, let $x$ be equal to the number of \"A\" grades (including A-, A and A+ grades) that a student receives in their first year of college (freshmen year). We would like to predict the value of $y$, which we define as the number of \"A\" grades they get in their second year (sophomore year).\n",
    "\n",
    "Here each row is one training example. Recall that in linear regression, our hypothesis is $h_{\\theta}(x) = \\theta_0 + \\theta_1x$, and we use $m$ to denote the number of training examples.\n",
    "\n",
    "| $x$ | $y$ |\n",
    "| --- | --- |\n",
    "| 3 | 2 |\n",
    "| 1 | 2 |\n",
    "| 0 | 1 |\n",
    "| 4 | 3 |\n",
    "\n",
    "For the training set given above (note that this training set may also be referenced in other questions in this quiz), what is the value of $m$? In the box below, please enter your answer (which should be a number between 0 and 10).\n",
    "\n",
    "#### Answer\n",
    "\n",
    "According to our notation, $m$ is the number of training examples. Since each row corresponds to one training example, we have $m = 4$."
   ]
  },
  {
   "cell_type": "markdown",
   "metadata": {},
   "source": [
    "Question 2\n",
    "----------\n",
    "\n",
    "Many substances that can burn (such as gasoline and alcohol) have a chemical structure based on carbon atoms; for this reason they are called hydrocarbons. A chemist wants to understand how the number of carbon atoms in a molecule affects how much energy is released when that molecule combusts (meaning that it is burned). The chemist obtains the dataset below. In the column on the right, “kJ/mol” is the unit measuring the amount of energy released.\n",
    "\n",
    "| Name of molecule | Number of carbon atoms | Heat release when burned (kJ/mol) |\n",
    "| --- | --- | --- |\n",
    "| methane | 1 | -890 |\n",
    "| ethene | 2 | -1411 |\n",
    "| ethane | 2 | -1560 |\n",
    "| propane | 3 | -2200 |\n",
    "| cyclopropane | 3 | -2091 |\n",
    "| butane | 4 | -2878 |\n",
    "| pentane | 5 | -3537 |\n",
    "| benzene | 6 | -3268 |\n",
    "| cyclohexane | 6 | -3920 |\n",
    "| hexane | 6 | -4163 |\n",
    "| octane | 8 | -5471 |\n",
    "| naphthalene | 8 | -5157 |\n",
    "\n",
    "You would like to use linear regression $h_{\\theta}(x) = \\theta_0 + \\theta_1x$ to estimate the amount of energy released $y$ as a function of the number of carbon atoms $x$. Which of the following do you think will be the values you obtain for $\\theta_0$ and $\\theta_1$? You should be able to select the right answer without actually implementing linear regression.\n",
    "\n",
    "* $\\theta_0 = -569.6,\\theta_1 = -530.9$\n",
    "* $\\theta_0 = -569.6,\\theta_1 = 530.9$\n",
    "* $\\theta_0 = -1780.0,\\theta_1 = -530.9$\n",
    "* $\\theta_0 = -1780.0,\\theta_1 = 530.9$\n",
    "\n",
    "#### Answer\n",
    "\n",
    "$\\theta_0 = -569.6, \\theta_1 = -530.9$"
   ]
  },
  {
   "cell_type": "markdown",
   "metadata": {},
   "source": [
    "Question 3\n",
    "----------\n",
    "\n",
    "Suppose we set $\\theta_0 = -1, \\theta_1 = 0.5$. What is $h_{\\theta}(4)$?\n",
    "\n",
    "#### Answer\n",
    "\n",
    "We have $h_{\\theta}(x) = \\theta_0 + \\theta_1x\\implies h_{\\theta}(4)=  1$"
   ]
  },
  {
   "cell_type": "markdown",
   "metadata": {},
   "source": [
    "Question 4\n",
    "----------\n",
    "\n",
    "Let $f$ be some function so that $f(\\theta_0, \\theta_1)$ outputs a number. For this problem, $f$ is some arbitrary/unknown smooth function (not necessarily the cost function of linear regression, so $f$ may have local optima). Suppose we use gradient descent to try to minimize $f(\\theta_0, \\theta_1)$ as a function of $\\theta_0$ and $\\theta_1$. Which of the following statements are true? (Check all that apply)\n",
    "\n",
    "* Even if the learning rate $\\alpha$ is very large, every iteration of gradient descent will decrease the value of $f(\\theta_0, \\theta_1)$\n",
    "* If the learning rate is too small, then gradient descent may take a very long time to converge\n",
    "* If $\\theta_0$ and $\\theta_1$ are initialized at a local minimum, then one iteration will not change their values\n",
    "* If $\\theta_0$ and $\\theta_1$ are initialized so that $\\theta_0 = \\theta_1$, then by symmetry (because we do simultaneous updates to the two parameters), after one iteration of gradient descent, we will still have $\\theta_0 = \\theta_1$\n",
    "\n",
    "#### Answer\n",
    "\n",
    "Option 1 - False. If $\\alpha$ is very large, then gradient descent might result in overshooting the minimum. It may also fail to converge or even diverge in some cases.\n",
    "\n",
    "Option 2 - True. The value of $\\alpha$ defines the step size with each iteration of gradient descent. A low learning rate means that gradient descent will be slower.\n",
    "\n",
    "Option 3 - True. At a local minimum, the partial derivatives involved in the gradient descent algorithm will equal zero. This will lead to updating $\\theta_0$ and $\\theta_1$ with a zero value (i.e. they remain same). In fact, no matter the number of iterations, the values of $\\theta_0$ and $\\theta_1$ will always stay constant.\n",
    "\n",
    "Option 4 - False. Just because $\\theta_0 = \\theta_1$ does not mean that the partial derivative of the cost function with respect to $\\theta_0$, $\\theta_1$ will be equal. For example consider the function $f(\\theta_0, \\theta_1) = \\theta_0^2 + 2\\theta_0\\theta_1$ at $\\theta_0 = \\theta_1 = 1$."
   ]
  },
  {
   "cell_type": "markdown",
   "metadata": {},
   "source": [
    "Question 5\n",
    "----------\n",
    "\n",
    "Suppose that for some linear regression problem (say, predicting housing prices as in the lecture), we have some training set, and for our training set we managed to find some $\\theta_0,\\theta_1$ such that $J(\\theta_0, \\theta_1) = 0$.\n",
    "\n",
    "Which of the statements below must then be true? (Check all that apply)\n",
    "\n",
    "* For this to be true, we must have $y^{(i)}=0$ for every value of $i=1,2,\\dots ,m$\n",
    "* Gradient descent is likely to get stuck at a local minimum and fail to find the global minimum\n",
    "* For this to be true, we must have $\\theta_0=0$ and $\\theta_1=0$ so that $h_{\\theta}(x)=0$\n",
    "* Our training set can be fit perfectly by a straight line, i.e., all of our training examples lie perfectly on some straight line.\n",
    "\n",
    "#### Answer\n",
    "\n",
    "Option 1 - False. For the cost function to be zero, we require the error terms to be zero. Individual values of $y$ and $h$ can be non-zero, but must be equal for every value of $i$.\n",
    "\n",
    "Option 2 - False. For linear regression, the local minimum is equal to the global minimum.\n",
    "\n",
    "Option 3 - False. For the cost function to be zero, we require the error terms to be zero. $\\theta_0$ and $\\theta_1$ can be non-zero.\n",
    "\n",
    "Option 4 - True. Since the cost function is a sum of squares (essentially all positive quantities), each of the squared error terms must be zero. Hence, the values of $h$ and $y$ must be the same for all values of $i$, i.e. the function values coincide at all points and hence, all values lie on the same line."
   ]
  }
 ],
 "metadata": {
  "language_info": {
   "name": "python"
  },
  "orig_nbformat": 4
 },
 "nbformat": 4,
 "nbformat_minor": 2
}
